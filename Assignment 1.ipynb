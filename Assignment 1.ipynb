{
 "cells": [
  {
   "cell_type": "markdown",
   "id": "8fc43a42",
   "metadata": {},
   "source": [
    "1.  * - expression\n",
    "    'hello' - value\n",
    "    -87.8 - value\n",
    "    - - expression\n",
    "    / - expression\n",
    "    + - expression\n",
    "    6 - value\n",
    "    \n",
    "2. String - A string is used to represent text rather than numbers.\n",
    "    Variable - A variable is a name that can refer to any value.\n",
    "    \n",
    "3. Three different data types are - Integer, String and Boolean.\n",
    "\n",
    "4. An expression is a combination of values, variables & operators. We use expressions to specify which information we want to see.\n",
    "\n",
    "5. Statements are everything that can make up a line (or several lines) of Python code where as expressions are parts of statements.\n",
    "\n",
    "6. The variable bacon = 22\n",
    "\n",
    "7. 'spamspamspam'\n",
    "'spamspamspam'\n",
    "\n",
    "8. Variable name cannot start with an integer.\n",
    "\n",
    "9.int, float & str.\n",
    "\n",
    "10.We cannot add string to an integer. we can fix it by converting '99' into a string."
   ]
  }
 ],
 "metadata": {
  "kernelspec": {
   "display_name": "Python 3",
   "language": "python",
   "name": "python3"
  },
  "language_info": {
   "codemirror_mode": {
    "name": "ipython",
    "version": 3
   },
   "file_extension": ".py",
   "mimetype": "text/x-python",
   "name": "python",
   "nbconvert_exporter": "python",
   "pygments_lexer": "ipython3",
   "version": "3.8.8"
  }
 },
 "nbformat": 4,
 "nbformat_minor": 5
}
